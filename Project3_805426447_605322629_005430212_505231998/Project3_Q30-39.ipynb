{
 "cells": [
  {
   "cell_type": "code",
   "execution_count": 1,
   "metadata": {},
   "outputs": [],
   "source": [
    "import csv\n",
    "import numpy as np\n",
    "import os\n",
    "import math\n",
    "import random\n",
    "random.seed(42)\n",
    "np.random.seed(42)\n",
    "import matplotlib.pyplot as plt\n",
    "from sklearn.decomposition import NMF\n",
    "from surprise import Reader\n",
    "from surprise import AlgoBase\n",
    "from surprise import Dataset\n",
    "from surprise import accuracy\n",
    "from collections import defaultdict\n",
    "from sklearn.model_selection import KFold\n",
    "from surprise.model_selection import cross_validate\n",
    "from surprise import KNNWithMeans,NMF,SVD"
   ]
  },
  {
   "cell_type": "code",
   "execution_count": 2,
   "metadata": {},
   "outputs": [],
   "source": [
    "file_ratings=os.path.expanduser('ml-latest-small/ratings.csv')\n",
    "file_movies=os.path.expanduser('ml-latest-small/movies.csv')\n",
    "\n",
    "user_id=[]\n",
    "movie_id=[]\n",
    "ratings=[]\n",
    "\n",
    "with open(file_ratings) as csvfile:\n",
    "    reader=csv.DictReader(csvfile)\n",
    "    for row in reader:\n",
    "        user_id.append(int(row['userId']))\n",
    "        movie_id.append(int(row['movieId']))\n",
    "        ratings.append(float(row['rating']))\n",
    "        \n",
    "user_number=len(np.unique(user_id))\n",
    "movie_number=len(np.unique(movie_id))\n",
    "movie_list=dict()\n",
    "movie_id_u=[]\n",
    "movie_idx=0\n",
    "for id in movie_id:\n",
    "    if id not in movie_id_u:\n",
    "        movie_list[id]=int(movie_idx)\n",
    "        movie_id_u.append(id)\n",
    "        movie_idx=movie_idx+1\n",
    "        \n",
    "total_available_rating=len(user_id)\n",
    "total_possible_rating=user_number*movie_number"
   ]
  },
  {
   "cell_type": "code",
   "execution_count": 3,
   "metadata": {},
   "outputs": [],
   "source": [
    "R=np.zeros((user_number, movie_number))  \n",
    "W=np.zeros((user_number, movie_number))\n",
    "\n",
    "for i in range(len(user_id)):\n",
    "    x=user_id[i]-1\n",
    "    y=int(movie_list[movie_id[i]])\n",
    "    R[x,y]=ratings[i]\n",
    "    W[x,y]=1\n",
    "np.sum(R,axis=0)\n",
    "x=np.sum(W,axis=0)\n",
    "rating=np.sum(R,axis=0)/np.sum(W,axis=0)\n",
    "for i in range(movie_number):\n",
    "    if x[i]<200:\n",
    "        rating[i]=5 \n",
    "movie_id_u[np.argmin(rating)]\n",
    "\n",
    "data=[]\n",
    "data.append(user_id)\n",
    "data.append(movie_id)\n",
    "data.append(ratings)\n",
    "data=np.transpose(data)\n",
    "data\n",
    "\n",
    "def Popular(test_index, movieFreq):\n",
    "    new_index=[]\n",
    "    for index in test_index:\n",
    "        if movieFreq[movie_list[data[index,1]]]>2:\n",
    "            new_index.append(index)\n",
    "    return new_index\n",
    "\n",
    "def Unpopular(test_index, movieFreq):\n",
    "    new_index=[]\n",
    "    for index in test_index:\n",
    "        if movieFreq[movie_list[data[index,1]]]<=2:\n",
    "            new_index.append(index)\n",
    "    return new_index\n",
    "\n",
    "def HighVariance(testset, movieFreq, movieVar):\n",
    "    new_index=[]\n",
    "    for index in test_index:\n",
    "        if movieVar[movie_list[data[index,1]]]>=2 and movieFreq[movie_list[data[index,1]]]>=5:\n",
    "            new_index.append(index)            \n",
    "    return new_index\n",
    "\n",
    "movieFreq=np.sum(R!=0, axis=0)\n",
    "movieFreq_dict={m: movieFreq[movie_list[m]] for m in movie_list.keys()}\n",
    "movieVar=[np.var([e for e in row if e!=0]) for row in np.transpose(R)]\n",
    "movieVar_dict={m: movieVar[movie_list[m]] for m in movie_list.keys()}"
   ]
  },
  {
   "cell_type": "markdown",
   "metadata": {},
   "source": [
    "# Question 30"
   ]
  },
  {
   "cell_type": "code",
   "execution_count": 4,
   "metadata": {
    "scrolled": true
   },
   "outputs": [
    {
     "name": "stdout",
     "output_type": "stream",
     "text": [
      "(610, 9724)\n",
      "(610,)\n",
      "averageRMSE= 0.9346786847813551\n"
     ]
    }
   ],
   "source": [
    "averageRMSE=0\n",
    "RMSE_list=[]\n",
    "\n",
    "kf=KFold(n_splits=10,random_state=42,shuffle=True)\n",
    "avg=np.sum(R,axis=1)/np.sum(W,axis=1)\n",
    "print(R.shape)\n",
    "print(avg.shape)\n",
    "\n",
    "for train_index, test_index in kf.split(data):\n",
    "    RMSE=0\n",
    "    for index in test_index:\n",
    "        pred=avg[int(data[index,0]-1)]\n",
    "        RMSE=RMSE+(data[index,2]-pred)*(data[index,2]-pred)\n",
    "    averageRMSE=averageRMSE+math.sqrt(RMSE/len(test_index))   \n",
    "    RMSE_list.append(math.sqrt(RMSE/len(test_index)))\n",
    "    \n",
    "averageRMSE=averageRMSE/10  \n",
    "print('averageRMSE=',averageRMSE)"
   ]
  },
  {
   "cell_type": "markdown",
   "metadata": {},
   "source": [
    "# Question 31"
   ]
  },
  {
   "cell_type": "code",
   "execution_count": 5,
   "metadata": {},
   "outputs": [
    {
     "name": "stdout",
     "output_type": "stream",
     "text": [
      "averageRMSE_popular= 0.9322922328020201\n"
     ]
    }
   ],
   "source": [
    "averageRMSE_popular=0\n",
    "RMSE_list=[]\n",
    "\n",
    "for train_index, test_index in kf.split(data):\n",
    "    RMSE=0\n",
    "    new_index=Popular(test_index, movieFreq)\n",
    "    for index in new_index:\n",
    "        pred=avg[int(data[index,0]-1)]\n",
    "        RMSE=RMSE+(data[index,2]-pred)*(data[index,2]-pred)\n",
    "    averageRMSE_popular=averageRMSE_popular+math.sqrt(RMSE/len(new_index))   \n",
    "    RMSE_list.append(math.sqrt(RMSE/len(new_index)))\n",
    "    \n",
    "averageRMSE_popular=averageRMSE_popular/10    \n",
    "print('averageRMSE_popular=',averageRMSE_popular)"
   ]
  },
  {
   "cell_type": "markdown",
   "metadata": {},
   "source": [
    "# Question 32"
   ]
  },
  {
   "cell_type": "code",
   "execution_count": 6,
   "metadata": {},
   "outputs": [
    {
     "name": "stdout",
     "output_type": "stream",
     "text": [
      "averageRMSE_unpopular= 0.9711408873803059\n"
     ]
    }
   ],
   "source": [
    "averageRMSE_unpopular=0\n",
    "RMSE_list=[]\n",
    "\n",
    "for train_index, test_index in kf.split(data):\n",
    "    RMSE=0\n",
    "    new_index=Unpopular(test_index, movieFreq)\n",
    "    for index in new_index:\n",
    "        pred=avg[int(data[index,0]-1)]\n",
    "        RMSE=RMSE+(data[index,2]-pred)*(data[index,2]-pred)\n",
    "    averageRMSE_unpopular=averageRMSE_unpopular+math.sqrt(RMSE/len(new_index))   \n",
    "    RMSE_list.append(math.sqrt(RMSE/len(new_index)))\n",
    "    \n",
    "averageRMSE_unpopular=averageRMSE_unpopular/10    \n",
    "print('averageRMSE_unpopular=',averageRMSE_unpopular)"
   ]
  },
  {
   "cell_type": "markdown",
   "metadata": {},
   "source": [
    "# Question 33 "
   ]
  },
  {
   "cell_type": "code",
   "execution_count": 7,
   "metadata": {},
   "outputs": [
    {
     "name": "stdout",
     "output_type": "stream",
     "text": [
      "averageRMSE_highvariance= 1.4535715353696466\n"
     ]
    }
   ],
   "source": [
    "averageRMSE_highvariance=0\n",
    "RMSE_list=[]\n",
    "\n",
    "for train_index, test_index in kf.split(data):    \n",
    "    RMSE=0\n",
    "    new_index=HighVariance(test_index, movieFreq,movieVar)\n",
    "    for index in new_index:\n",
    "        pred=avg[int(data[index,0]-1)]\n",
    "        RMSE=RMSE+(data[index,2]-pred)*(data[index,2]-pred)\n",
    "    averageRMSE_highvariance=averageRMSE_highvariance+math.sqrt(RMSE/len(new_index))   \n",
    "    RMSE_list.append(math.sqrt(RMSE/len(new_index)))\n",
    "    \n",
    "averageRMSE_highvariance=averageRMSE_highvariance/10    \n",
    "print('averageRMSE_highvariance=',averageRMSE_highvariance)"
   ]
  },
  {
   "cell_type": "markdown",
   "metadata": {},
   "source": [
    "# Question 34 "
   ]
  },
  {
   "cell_type": "code",
   "execution_count": 8,
   "metadata": {},
   "outputs": [
    {
     "name": "stdout",
     "output_type": "stream",
     "text": [
      "Computing the pearson similarity matrix...\n",
      "Done computing similarity matrix.\n"
     ]
    }
   ],
   "source": [
    "reader=Reader(line_format='user item rating timestamp', sep=',', skip_lines=1)\n",
    "data=Dataset.load_from_file('ml-latest-small/ratings.csv', reader)\n",
    "from surprise.model_selection import train_test_split\n",
    "from sklearn.metrics import roc_curve, auc, roc_auc_score\n",
    "trainset, testset=train_test_split(data, test_size=0.1)\n",
    "\n",
    "algo1=KNNWithMeans(k=22, sim_options={'name': 'pearson', 'user_based': True})\n",
    "algo2=NMF(n_factors=16)\n",
    "algo3=SVD(n_factors=28)\n",
    "\n",
    "algo1.fit(trainset)\n",
    "prediction1 = algo1.test(testset)\n",
    "algo2.fit(trainset)\n",
    "prediction2 = algo2.test(testset)\n",
    "algo3.fit(trainset)\n",
    "prediction3 = algo3.test(testset)"
   ]
  },
  {
   "cell_type": "code",
   "execution_count": 9,
   "metadata": {},
   "outputs": [
    {
     "data": {
      "image/png": "[encoded data removed]",
      "text/plain": [
       "<Figure size 432x288 with 1 Axes>"
      ]
     },
     "metadata": {
      "needs_background": "light"
     },
     "output_type": "display_data"
    }
   ],
   "source": [
    "threshold=3\n",
    "y=[1 if pred[2]>threshold else 0 for pred in prediction1]\n",
    "scores1=[pred[3] for pred in prediction1]\n",
    "fpr1, tpr1, _=roc_curve(y, scores1)\n",
    "auc1=roc_auc_score(y, scores1)\n",
    "plt.plot(fpr1,tpr1,label=\"KNN, auc=\"+str(auc1))\n",
    "\n",
    "y=[1 if pred[2]>threshold else 0 for pred in prediction2]\n",
    "scores2=[pred[3] for pred in prediction2]\n",
    "fpr2, tpr2, _=roc_curve(y, scores2)\n",
    "auc2 = roc_auc_score(y, scores2)\n",
    "plt.plot(fpr2,tpr2,label=\"NMF, auc=\"+str(auc2))\n",
    "\n",
    "y=[1 if pred[2]>threshold else 0 for pred in prediction3]\n",
    "scores3=[pred[3] for pred in prediction3]\n",
    "fpr3, tpr3, _=roc_curve(y, scores3)\n",
    "auc3=roc_auc_score(y, scores3)\n",
    "plt.plot(fpr3,tpr3,label=\"MF, auc=\"+str(auc3))\n",
    "\n",
    "plt.legend(loc=0)\n",
    "plt.show()"
   ]
  },
  {
   "cell_type": "code",
   "execution_count": 10,
   "metadata": {},
   "outputs": [],
   "source": [
    "from surprise.model_selection import KFold\n",
    "def precision_recall_at_k(predictions, k=10, threshold=3):\n",
    "    user_est_true=defaultdict(list)\n",
    "    for uid, _, true_r, est, _ in predictions:\n",
    "        user_est_true[uid].append((est, true_r))\n",
    "    precisions=dict()\n",
    "    recalls=dict()\n",
    "    for uid, user_ratings in user_est_true.items():\n",
    "        user_ratings.sort(key=lambda x: x[0], reverse=True)\n",
    "        n_rel=sum((true_r>=threshold) for (_, true_r) in user_ratings)\n",
    "        n_rec_k=sum((est>=threshold) for (est, _) in user_ratings[:k])\n",
    "        n_rel_and_rec_k=sum(((true_r>=threshold) and (est>=threshold))\n",
    "                              for (est, true_r) in user_ratings[:k])\n",
    "        precisions[uid]=n_rel_and_rec_k/n_rec_k if n_rec_k!=0 else 1\n",
    "        recalls[uid]=n_rel_and_rec_k/n_rel if n_rel!=0 else 1\n",
    "    return precisions, recalls"
   ]
  },
  {
   "cell_type": "markdown",
   "metadata": {},
   "source": [
    "# Question 36"
   ]
  },
  {
   "cell_type": "code",
   "execution_count": 15,
   "metadata": {
    "scrolled": true
   },
   "outputs": [
    {
     "name": "stdout",
     "output_type": "stream",
     "text": [
      "Computing the pearson similarity matrix...\n",
      "Done computing similarity matrix.\n",
      "Computing the pearson similarity matrix...\n",
      "Done computing similarity matrix.\n",
      "Computing the pearson similarity matrix...\n",
      "Done computing similarity matrix.\n",
      "Computing the pearson similarity matrix...\n",
      "Done computing similarity matrix.\n",
      "Computing the pearson similarity matrix...\n",
      "Done computing similarity matrix.\n",
      "Computing the pearson similarity matrix...\n",
      "Done computing similarity matrix.\n",
      "Computing the pearson similarity matrix...\n",
      "Done computing similarity matrix.\n",
      "Computing the pearson similarity matrix...\n",
      "Done computing similarity matrix.\n",
      "Computing the pearson similarity matrix...\n",
      "Done computing similarity matrix.\n",
      "Computing the pearson similarity matrix...\n",
      "Done computing similarity matrix.\n",
      "Computing the pearson similarity matrix...\n",
      "Done computing similarity matrix.\n",
      "Computing the pearson similarity matrix...\n",
      "Done computing similarity matrix.\n",
      "Computing the pearson similarity matrix...\n",
      "Done computing similarity matrix.\n",
      "Computing the pearson similarity matrix...\n",
      "Done computing similarity matrix.\n",
      "Computing the pearson similarity matrix...\n",
      "Done computing similarity matrix.\n",
      "Computing the pearson similarity matrix...\n",
      "Done computing similarity matrix.\n",
      "Computing the pearson similarity matrix...\n",
      "Done computing similarity matrix.\n",
      "Computing the pearson similarity matrix...\n",
      "Done computing similarity matrix.\n",
      "Computing the pearson similarity matrix...\n",
      "Done computing similarity matrix.\n",
      "Computing the pearson similarity matrix...\n",
      "Done computing similarity matrix.\n",
      "Computing the pearson similarity matrix...\n",
      "Done computing similarity matrix.\n",
      "Computing the pearson similarity matrix...\n",
      "Done computing similarity matrix.\n",
      "Computing the pearson similarity matrix...\n",
      "Done computing similarity matrix.\n",
      "Computing the pearson similarity matrix...\n",
      "Done computing similarity matrix.\n",
      "Computing the pearson similarity matrix...\n",
      "Done computing similarity matrix.\n",
      "Computing the pearson similarity matrix...\n",
      "Done computing similarity matrix.\n",
      "Computing the pearson similarity matrix...\n",
      "Done computing similarity matrix.\n",
      "Computing the pearson similarity matrix...\n",
      "Done computing similarity matrix.\n",
      "Computing the pearson similarity matrix...\n",
      "Done computing similarity matrix.\n",
      "Computing the pearson similarity matrix...\n",
      "Done computing similarity matrix.\n",
      "Computing the pearson similarity matrix...\n",
      "Done computing similarity matrix.\n",
      "Computing the pearson similarity matrix...\n",
      "Done computing similarity matrix.\n",
      "Computing the pearson similarity matrix...\n",
      "Done computing similarity matrix.\n",
      "Computing the pearson similarity matrix...\n",
      "Done computing similarity matrix.\n",
      "Computing the pearson similarity matrix...\n",
      "Done computing similarity matrix.\n",
      "Computing the pearson similarity matrix...\n",
      "Done computing similarity matrix.\n",
      "Computing the pearson similarity matrix...\n",
      "Done computing similarity matrix.\n",
      "Computing the pearson similarity matrix...\n",
      "Done computing similarity matrix.\n",
      "Computing the pearson similarity matrix...\n",
      "Done computing similarity matrix.\n",
      "Computing the pearson similarity matrix...\n",
      "Done computing similarity matrix.\n",
      "t 5\n",
      "Computing the pearson similarity matrix...\n",
      "Done computing similarity matrix.\n",
      "Computing the pearson similarity matrix...\n",
      "Done computing similarity matrix.\n",
      "Computing the pearson similarity matrix...\n",
      "Done computing similarity matrix.\n",
      "Computing the pearson similarity matrix...\n",
      "Done computing similarity matrix.\n",
      "Computing the pearson similarity matrix...\n",
      "Done computing similarity matrix.\n",
      "Computing the pearson similarity matrix...\n",
      "Done computing similarity matrix.\n",
      "Computing the pearson similarity matrix...\n",
      "Done computing similarity matrix.\n",
      "Computing the pearson similarity matrix...\n",
      "Done computing similarity matrix.\n",
      "Computing the pearson similarity matrix...\n",
      "Done computing similarity matrix.\n",
      "Computing the pearson similarity matrix...\n",
      "Done computing similarity matrix.\n",
      "Computing the pearson similarity matrix...\n",
      "Done computing similarity matrix.\n",
      "Computing the pearson similarity matrix...\n",
      "Done computing similarity matrix.\n",
      "Computing the pearson similarity matrix...\n",
      "Done computing similarity matrix.\n",
      "Computing the pearson similarity matrix...\n",
      "Done computing similarity matrix.\n",
      "Computing the pearson similarity matrix...\n",
      "Done computing similarity matrix.\n",
      "Computing the pearson similarity matrix...\n",
      "Done computing similarity matrix.\n",
      "Computing the pearson similarity matrix...\n",
      "Done computing similarity matrix.\n",
      "Computing the pearson similarity matrix...\n",
      "Done computing similarity matrix.\n",
      "Computing the pearson similarity matrix...\n",
      "Done computing similarity matrix.\n",
      "Computing the pearson similarity matrix...\n",
      "Done computing similarity matrix.\n",
      "Computing the pearson similarity matrix...\n",
      "Done computing similarity matrix.\n",
      "Computing the pearson similarity matrix...\n",
      "Done computing similarity matrix.\n",
      "Computing the pearson similarity matrix...\n",
      "Done computing similarity matrix.\n",
      "Computing the pearson similarity matrix...\n",
      "Done computing similarity matrix.\n",
      "Computing the pearson similarity matrix...\n",
      "Done computing similarity matrix.\n",
      "Computing the pearson similarity matrix...\n",
      "Done computing similarity matrix.\n",
      "Computing the pearson similarity matrix...\n",
      "Done computing similarity matrix.\n",
      "Computing the pearson similarity matrix...\n",
      "Done computing similarity matrix.\n",
      "Computing the pearson similarity matrix...\n",
      "Done computing similarity matrix.\n",
      "Computing the pearson similarity matrix...\n",
      "Done computing similarity matrix.\n",
      "Computing the pearson similarity matrix...\n",
      "Done computing similarity matrix.\n",
      "Computing the pearson similarity matrix...\n",
      "Done computing similarity matrix.\n",
      "Computing the pearson similarity matrix...\n",
      "Done computing similarity matrix.\n",
      "Computing the pearson similarity matrix...\n",
      "Done computing similarity matrix.\n",
      "Computing the pearson similarity matrix...\n",
      "Done computing similarity matrix.\n",
      "Computing the pearson similarity matrix...\n",
      "Done computing similarity matrix.\n",
      "Computing the pearson similarity matrix...\n",
      "Done computing similarity matrix.\n",
      "Computing the pearson similarity matrix...\n",
      "Done computing similarity matrix.\n",
      "Computing the pearson similarity matrix...\n",
      "Done computing similarity matrix.\n",
      "Computing the pearson similarity matrix...\n",
      "Done computing similarity matrix.\n",
      "Computing the pearson similarity matrix...\n",
      "Done computing similarity matrix.\n",
      "Computing the pearson similarity matrix...\n",
      "Done computing similarity matrix.\n",
      "Computing the pearson similarity matrix...\n",
      "Done computing similarity matrix.\n",
      "Computing the pearson similarity matrix...\n",
      "Done computing similarity matrix.\n",
      "Computing the pearson similarity matrix...\n",
      "Done computing similarity matrix.\n",
      "Computing the pearson similarity matrix...\n",
      "Done computing similarity matrix.\n",
      "Computing the pearson similarity matrix...\n",
      "Done computing similarity matrix.\n",
      "Computing the pearson similarity matrix...\n",
      "Done computing similarity matrix.\n",
      "Computing the pearson similarity matrix...\n",
      "Done computing similarity matrix.\n",
      "Computing the pearson similarity matrix...\n",
      "Done computing similarity matrix.\n",
      "t 10\n",
      "Computing the pearson similarity matrix...\n",
      "Done computing similarity matrix.\n",
      "Computing the pearson similarity matrix...\n",
      "Done computing similarity matrix.\n",
      "Computing the pearson similarity matrix...\n",
      "Done computing similarity matrix.\n",
      "Computing the pearson similarity matrix...\n",
      "Done computing similarity matrix.\n",
      "Computing the pearson similarity matrix...\n",
      "Done computing similarity matrix.\n",
      "Computing the pearson similarity matrix...\n",
      "Done computing similarity matrix.\n",
      "Computing the pearson similarity matrix...\n",
      "Done computing similarity matrix.\n",
      "Computing the pearson similarity matrix...\n",
      "Done computing similarity matrix.\n",
      "Computing the pearson similarity matrix...\n",
      "Done computing similarity matrix.\n",
      "Computing the pearson similarity matrix...\n",
      "Done computing similarity matrix.\n",
      "Computing the pearson similarity matrix...\n",
      "Done computing similarity matrix.\n",
      "Computing the pearson similarity matrix...\n",
      "Done computing similarity matrix.\n",
      "Computing the pearson similarity matrix...\n",
      "Done computing similarity matrix.\n",
      "Computing the pearson similarity matrix...\n",
      "Done computing similarity matrix.\n",
      "Computing the pearson similarity matrix...\n",
      "Done computing similarity matrix.\n",
      "Computing the pearson similarity matrix...\n",
      "Done computing similarity matrix.\n",
      "Computing the pearson similarity matrix...\n"
     ]
    },
    {
     "name": "stdout",
     "output_type": "stream",
     "text": [
      "Done computing similarity matrix.\n",
      "Computing the pearson similarity matrix...\n",
      "Done computing similarity matrix.\n",
      "Computing the pearson similarity matrix...\n",
      "Done computing similarity matrix.\n",
      "Computing the pearson similarity matrix...\n",
      "Done computing similarity matrix.\n",
      "Computing the pearson similarity matrix...\n",
      "Done computing similarity matrix.\n",
      "Computing the pearson similarity matrix...\n",
      "Done computing similarity matrix.\n",
      "Computing the pearson similarity matrix...\n",
      "Done computing similarity matrix.\n",
      "Computing the pearson similarity matrix...\n",
      "Done computing similarity matrix.\n",
      "Computing the pearson similarity matrix...\n",
      "Done computing similarity matrix.\n",
      "Computing the pearson similarity matrix...\n",
      "Done computing similarity matrix.\n",
      "Computing the pearson similarity matrix...\n",
      "Done computing similarity matrix.\n",
      "Computing the pearson similarity matrix...\n",
      "Done computing similarity matrix.\n",
      "Computing the pearson similarity matrix...\n",
      "Done computing similarity matrix.\n",
      "Computing the pearson similarity matrix...\n",
      "Done computing similarity matrix.\n",
      "Computing the pearson similarity matrix...\n",
      "Done computing similarity matrix.\n",
      "Computing the pearson similarity matrix...\n",
      "Done computing similarity matrix.\n",
      "Computing the pearson similarity matrix...\n",
      "Done computing similarity matrix.\n",
      "Computing the pearson similarity matrix...\n",
      "Done computing similarity matrix.\n",
      "Computing the pearson similarity matrix...\n",
      "Done computing similarity matrix.\n",
      "Computing the pearson similarity matrix...\n",
      "Done computing similarity matrix.\n",
      "Computing the pearson similarity matrix...\n",
      "Done computing similarity matrix.\n",
      "Computing the pearson similarity matrix...\n",
      "Done computing similarity matrix.\n",
      "Computing the pearson similarity matrix...\n",
      "Done computing similarity matrix.\n",
      "Computing the pearson similarity matrix...\n",
      "Done computing similarity matrix.\n",
      "Computing the pearson similarity matrix...\n",
      "Done computing similarity matrix.\n",
      "Computing the pearson similarity matrix...\n",
      "Done computing similarity matrix.\n",
      "Computing the pearson similarity matrix...\n",
      "Done computing similarity matrix.\n",
      "Computing the pearson similarity matrix...\n",
      "Done computing similarity matrix.\n",
      "Computing the pearson similarity matrix...\n",
      "Done computing similarity matrix.\n",
      "Computing the pearson similarity matrix...\n",
      "Done computing similarity matrix.\n",
      "Computing the pearson similarity matrix...\n",
      "Done computing similarity matrix.\n",
      "Computing the pearson similarity matrix...\n",
      "Done computing similarity matrix.\n",
      "Computing the pearson similarity matrix...\n",
      "Done computing similarity matrix.\n",
      "Computing the pearson similarity matrix...\n",
      "Done computing similarity matrix.\n",
      "t 15\n",
      "Computing the pearson similarity matrix...\n",
      "Done computing similarity matrix.\n",
      "Computing the pearson similarity matrix...\n",
      "Done computing similarity matrix.\n",
      "Computing the pearson similarity matrix...\n",
      "Done computing similarity matrix.\n",
      "Computing the pearson similarity matrix...\n",
      "Done computing similarity matrix.\n",
      "Computing the pearson similarity matrix...\n",
      "Done computing similarity matrix.\n",
      "Computing the pearson similarity matrix...\n",
      "Done computing similarity matrix.\n",
      "Computing the pearson similarity matrix...\n",
      "Done computing similarity matrix.\n",
      "Computing the pearson similarity matrix...\n",
      "Done computing similarity matrix.\n",
      "Computing the pearson similarity matrix...\n",
      "Done computing similarity matrix.\n",
      "Computing the pearson similarity matrix...\n",
      "Done computing similarity matrix.\n",
      "Computing the pearson similarity matrix...\n",
      "Done computing similarity matrix.\n",
      "Computing the pearson similarity matrix...\n",
      "Done computing similarity matrix.\n",
      "Computing the pearson similarity matrix...\n",
      "Done computing similarity matrix.\n",
      "Computing the pearson similarity matrix...\n",
      "Done computing similarity matrix.\n",
      "Computing the pearson similarity matrix...\n",
      "Done computing similarity matrix.\n",
      "Computing the pearson similarity matrix...\n",
      "Done computing similarity matrix.\n",
      "Computing the pearson similarity matrix...\n",
      "Done computing similarity matrix.\n",
      "Computing the pearson similarity matrix...\n",
      "Done computing similarity matrix.\n",
      "Computing the pearson similarity matrix...\n",
      "Done computing similarity matrix.\n",
      "Computing the pearson similarity matrix...\n",
      "Done computing similarity matrix.\n",
      "Computing the pearson similarity matrix...\n",
      "Done computing similarity matrix.\n",
      "Computing the pearson similarity matrix...\n",
      "Done computing similarity matrix.\n",
      "Computing the pearson similarity matrix...\n",
      "Done computing similarity matrix.\n",
      "Computing the pearson similarity matrix...\n",
      "Done computing similarity matrix.\n",
      "Computing the pearson similarity matrix...\n",
      "Done computing similarity matrix.\n",
      "Computing the pearson similarity matrix...\n",
      "Done computing similarity matrix.\n",
      "Computing the pearson similarity matrix...\n",
      "Done computing similarity matrix.\n",
      "Computing the pearson similarity matrix...\n",
      "Done computing similarity matrix.\n",
      "Computing the pearson similarity matrix...\n",
      "Done computing similarity matrix.\n",
      "Computing the pearson similarity matrix...\n",
      "Done computing similarity matrix.\n",
      "Computing the pearson similarity matrix...\n",
      "Done computing similarity matrix.\n",
      "Computing the pearson similarity matrix...\n",
      "Done computing similarity matrix.\n",
      "Computing the pearson similarity matrix...\n",
      "Done computing similarity matrix.\n",
      "Computing the pearson similarity matrix...\n",
      "Done computing similarity matrix.\n",
      "Computing the pearson similarity matrix...\n",
      "Done computing similarity matrix.\n",
      "Computing the pearson similarity matrix...\n",
      "Done computing similarity matrix.\n",
      "Computing the pearson similarity matrix...\n",
      "Done computing similarity matrix.\n",
      "Computing the pearson similarity matrix...\n",
      "Done computing similarity matrix.\n",
      "Computing the pearson similarity matrix...\n",
      "Done computing similarity matrix.\n",
      "Computing the pearson similarity matrix...\n",
      "Done computing similarity matrix.\n",
      "Computing the pearson similarity matrix...\n",
      "Done computing similarity matrix.\n",
      "Computing the pearson similarity matrix...\n",
      "Done computing similarity matrix.\n",
      "Computing the pearson similarity matrix...\n",
      "Done computing similarity matrix.\n",
      "Computing the pearson similarity matrix...\n",
      "Done computing similarity matrix.\n",
      "Computing the pearson similarity matrix...\n",
      "Done computing similarity matrix.\n",
      "Computing the pearson similarity matrix...\n",
      "Done computing similarity matrix.\n",
      "Computing the pearson similarity matrix...\n",
      "Done computing similarity matrix.\n",
      "Computing the pearson similarity matrix...\n",
      "Done computing similarity matrix.\n",
      "Computing the pearson similarity matrix...\n",
      "Done computing similarity matrix.\n",
      "Computing the pearson similarity matrix...\n",
      "Done computing similarity matrix.\n",
      "t 20\n",
      "Computing the pearson similarity matrix...\n",
      "Done computing similarity matrix.\n",
      "Computing the pearson similarity matrix...\n",
      "Done computing similarity matrix.\n",
      "Computing the pearson similarity matrix...\n",
      "Done computing similarity matrix.\n",
      "Computing the pearson similarity matrix...\n",
      "Done computing similarity matrix.\n",
      "Computing the pearson similarity matrix...\n",
      "Done computing similarity matrix.\n",
      "Computing the pearson similarity matrix...\n",
      "Done computing similarity matrix.\n",
      "Computing the pearson similarity matrix...\n",
      "Done computing similarity matrix.\n",
      "Computing the pearson similarity matrix...\n",
      "Done computing similarity matrix.\n",
      "Computing the pearson similarity matrix...\n",
      "Done computing similarity matrix.\n",
      "Computing the pearson similarity matrix...\n",
      "Done computing similarity matrix.\n",
      "Computing the pearson similarity matrix...\n",
      "Done computing similarity matrix.\n",
      "Computing the pearson similarity matrix...\n",
      "Done computing similarity matrix.\n",
      "Computing the pearson similarity matrix...\n",
      "Done computing similarity matrix.\n",
      "Computing the pearson similarity matrix...\n",
      "Done computing similarity matrix.\n",
      "Computing the pearson similarity matrix...\n",
      "Done computing similarity matrix.\n",
      "Computing the pearson similarity matrix...\n",
      "Done computing similarity matrix.\n",
      "Computing the pearson similarity matrix...\n",
      "Done computing similarity matrix.\n",
      "Computing the pearson similarity matrix...\n",
      "Done computing similarity matrix.\n",
      "Computing the pearson similarity matrix...\n",
      "Done computing similarity matrix.\n",
      "Computing the pearson similarity matrix...\n",
      "Done computing similarity matrix.\n",
      "Computing the pearson similarity matrix...\n",
      "Done computing similarity matrix.\n",
      "Computing the pearson similarity matrix...\n",
      "Done computing similarity matrix.\n",
      "Computing the pearson similarity matrix...\n",
      "Done computing similarity matrix.\n"
     ]
    },
    {
     "name": "stdout",
     "output_type": "stream",
     "text": [
      "Computing the pearson similarity matrix...\n",
      "Done computing similarity matrix.\n",
      "Computing the pearson similarity matrix...\n",
      "Done computing similarity matrix.\n",
      "Computing the pearson similarity matrix...\n",
      "Done computing similarity matrix.\n",
      "Computing the pearson similarity matrix...\n",
      "Done computing similarity matrix.\n",
      "Computing the pearson similarity matrix...\n",
      "Done computing similarity matrix.\n",
      "Computing the pearson similarity matrix...\n",
      "Done computing similarity matrix.\n",
      "Computing the pearson similarity matrix...\n",
      "Done computing similarity matrix.\n",
      "Computing the pearson similarity matrix...\n",
      "Done computing similarity matrix.\n",
      "Computing the pearson similarity matrix...\n",
      "Done computing similarity matrix.\n",
      "Computing the pearson similarity matrix...\n",
      "Done computing similarity matrix.\n",
      "Computing the pearson similarity matrix...\n",
      "Done computing similarity matrix.\n",
      "Computing the pearson similarity matrix...\n",
      "Done computing similarity matrix.\n",
      "Computing the pearson similarity matrix...\n",
      "Done computing similarity matrix.\n",
      "Computing the pearson similarity matrix...\n",
      "Done computing similarity matrix.\n",
      "Computing the pearson similarity matrix...\n",
      "Done computing similarity matrix.\n",
      "Computing the pearson similarity matrix...\n",
      "Done computing similarity matrix.\n",
      "Computing the pearson similarity matrix...\n",
      "Done computing similarity matrix.\n",
      "Computing the pearson similarity matrix...\n",
      "Done computing similarity matrix.\n",
      "Computing the pearson similarity matrix...\n",
      "Done computing similarity matrix.\n",
      "Computing the pearson similarity matrix...\n",
      "Done computing similarity matrix.\n",
      "Computing the pearson similarity matrix...\n",
      "Done computing similarity matrix.\n",
      "Computing the pearson similarity matrix...\n",
      "Done computing similarity matrix.\n",
      "Computing the pearson similarity matrix...\n",
      "Done computing similarity matrix.\n",
      "Computing the pearson similarity matrix...\n",
      "Done computing similarity matrix.\n",
      "Computing the pearson similarity matrix...\n",
      "Done computing similarity matrix.\n",
      "Computing the pearson similarity matrix...\n",
      "Done computing similarity matrix.\n",
      "Computing the pearson similarity matrix...\n",
      "Done computing similarity matrix.\n",
      "t 25\n",
      "Computing the pearson similarity matrix...\n",
      "Done computing similarity matrix.\n",
      "Computing the pearson similarity matrix...\n",
      "Done computing similarity matrix.\n",
      "Computing the pearson similarity matrix...\n",
      "Done computing similarity matrix.\n",
      "Computing the pearson similarity matrix...\n",
      "Done computing similarity matrix.\n",
      "Computing the pearson similarity matrix...\n",
      "Done computing similarity matrix.\n",
      "Computing the pearson similarity matrix...\n",
      "Done computing similarity matrix.\n",
      "Computing the pearson similarity matrix...\n",
      "Done computing similarity matrix.\n",
      "Computing the pearson similarity matrix...\n",
      "Done computing similarity matrix.\n",
      "Computing the pearson similarity matrix...\n",
      "Done computing similarity matrix.\n",
      "Computing the pearson similarity matrix...\n",
      "Done computing similarity matrix.\n"
     ]
    }
   ],
   "source": [
    "kf=KFold(n_splits=10)\n",
    "Precision_KNN=[]\n",
    "Recall_KNN=[]\n",
    "\n",
    "for t in range(1,26):\n",
    "    psum=0\n",
    "    rsum=0\n",
    "    if(t%5==0):\n",
    "        print(\"t\", t)\n",
    "    for trainset, testset in kf.split(data):\n",
    "        algo1.fit(trainset)\n",
    "        prediction1=algo1.test(testset)\n",
    "        precision1, recall1=precision_recall_at_k(prediction1, k=t, threshold=3)\n",
    "        psum=psum+sum(prec for prec in precision1.values())/len(precision1)\n",
    "        rsum=rsum+sum(rec for rec in recall1.values())/len(recall1)\n",
    "\n",
    "    psum=psum/10\n",
    "    rsum=rsum/10\n",
    "    Precision_KNN.append(psum)\n",
    "    Recall_KNN.append(rsum)"
   ]
  },
  {
   "cell_type": "code",
   "execution_count": 16,
   "metadata": {
    "scrolled": false
   },
   "outputs": [
    {
     "data": {
      "image/png": "[encoded data removed]",
      "text/plain": [
       "<Figure size 432x288 with 1 Axes>"
      ]
     },
     "metadata": {
      "needs_background": "light"
     },
     "output_type": "display_data"
    },
    {
     "data": {
      "image/png": "[encoded data removed]",
      "text/plain": [
       "<Figure size 432x288 with 1 Axes>"
      ]
     },
     "metadata": {
      "needs_background": "light"
     },
     "output_type": "display_data"
    },
    {
     "data": {
      "image/png": "[encoded data removed]",
      "text/plain": [
       "<Figure size 432x288 with 1 Axes>"
      ]
     },
     "metadata": {
      "needs_background": "light"
     },
     "output_type": "display_data"
    }
   ],
   "source": [
    "plt.plot(Precision_KNN)\n",
    "plt.xlabel('t')\n",
    "plt.ylabel('Precision')\n",
    "plt.show()\n",
    "\n",
    "plt.plot(Recall_KNN)\n",
    "plt.xlabel('t')\n",
    "plt.ylabel('Recall')\n",
    "plt.show()\n",
    "\n",
    "plt.plot(Recall_KNN, Precision_KNN)\n",
    "plt.xlabel('Recall')\n",
    "plt.ylabel('Precision')\n",
    "plt.show()"
   ]
  },
  {
   "cell_type": "markdown",
   "metadata": {},
   "source": [
    "# Question 37 "
   ]
  },
  {
   "cell_type": "code",
   "execution_count": 30,
   "metadata": {
    "scrolled": false
   },
   "outputs": [
    {
     "name": "stdout",
     "output_type": "stream",
     "text": [
      "t 5\n",
      "t 10\n",
      "t 15\n",
      "t 20\n",
      "t 25\n"
     ]
    }
   ],
   "source": [
    "Precision_NMF=[]\n",
    "Recall_NMF=[]\n",
    "\n",
    "for t in range(1,26):\n",
    "    psum=0\n",
    "    rsum=0\n",
    "    if(t%5==0):\n",
    "        print(\"t\", t)\n",
    "    for trainset, testset in kf.split(data):\n",
    "        algo2.fit(trainset)\n",
    "        prediction2=algo2.test(testset)\n",
    "        precision2, recall2=precision_recall_at_k(prediction2, k=t, threshold=3)\n",
    "        psum=psum+sum(prec for prec in precision2.values())/len(precision2)\n",
    "        rsum=rsum+sum(rec for rec in recall2.values())/len(recall2)\n",
    "\n",
    "    psum=psum/10\n",
    "    rsum=rsum/10\n",
    "    Precision_NMF.append(psum)\n",
    "    Recall_NMF.append(rsum)"
   ]
  },
  {
   "cell_type": "code",
   "execution_count": 31,
   "metadata": {
    "scrolled": false
   },
   "outputs": [
    {
     "data": {
      "image/png": "[encoded data removed]",
      "text/plain": [
       "<Figure size 432x288 with 1 Axes>"
      ]
     },
     "metadata": {
      "needs_background": "light"
     },
     "output_type": "display_data"
    },
    {
     "data": {
      "image/png": "[encoded data removed]",
      "text/plain": [
       "<Figure size 432x288 with 1 Axes>"
      ]
     },
     "metadata": {
      "needs_background": "light"
     },
     "output_type": "display_data"
    },
    {
     "data": {
      "image/png": "[encoded data removed]",
      "text/plain": [
       "<Figure size 432x288 with 1 Axes>"
      ]
     },
     "metadata": {
      "needs_background": "light"
     },
     "output_type": "display_data"
    }
   ],
   "source": [
    "plt.plot(Precision_NMF)\n",
    "plt.xlabel('t')\n",
    "plt.ylabel('Precision')\n",
    "plt.show()\n",
    "\n",
    "plt.plot(Recall_NMF)\n",
    "plt.xlabel('t')\n",
    "plt.ylabel('Recall')\n",
    "plt.show()\n",
    "\n",
    "plt.plot(Recall_NMF, Precision_NMF)\n",
    "plt.xlabel('Recall')\n",
    "plt.ylabel('Precision')\n",
    "plt.show()"
   ]
  },
  {
   "cell_type": "markdown",
   "metadata": {},
   "source": [
    "# Question 38 "
   ]
  },
  {
   "cell_type": "code",
   "execution_count": 19,
   "metadata": {},
   "outputs": [
    {
     "name": "stdout",
     "output_type": "stream",
     "text": [
      "t 5\n",
      "t 10\n",
      "t 15\n",
      "t 20\n",
      "t 25\n"
     ]
    }
   ],
   "source": [
    "Precision_MF=[]\n",
    "Recall_MF=[]\n",
    "\n",
    "for t in range(1,26):\n",
    "    psum=0\n",
    "    rsum=0\n",
    "    if(t%5==0):\n",
    "        print(\"t\", t)\n",
    "    for trainset, testset in kf.split(data):\n",
    "        algo3.fit(trainset)\n",
    "        prediction3=algo3.test(testset)\n",
    "        precision3, recall3=precision_recall_at_k(prediction3, k=t, threshold=3)\n",
    "        psum=psum+sum(prec for prec in precision3.values())/len(precision3)\n",
    "        rsum=rsum+sum(rec for rec in recall3.values())/len(recall3)\n",
    "\n",
    "    psum=psum/10\n",
    "    rsum=rsum/10\n",
    "    Precision_MF.append(psum)\n",
    "    Recall_MF.append(rsum)"
   ]
  },
  {
   "cell_type": "code",
   "execution_count": 21,
   "metadata": {
    "scrolled": false
   },
   "outputs": [
    {
     "data": {
      "image/png": "[encoded data removed]",
      "text/plain": [
       "<Figure size 432x288 with 1 Axes>"
      ]
     },
     "metadata": {
      "needs_background": "light"
     },
     "output_type": "display_data"
    },
    {
     "data": {
      "image/png": "[encoded data removed]",
      "text/plain": [
       "<Figure size 432x288 with 1 Axes>"
      ]
     },
     "metadata": {
      "needs_background": "light"
     },
     "output_type": "display_data"
    },
    {
     "data": {
      "image/png": "[encoded data removed]",
      "text/plain": [
       "<Figure size 432x288 with 1 Axes>"
      ]
     },
     "metadata": {
      "needs_background": "light"
     },
     "output_type": "display_data"
    }
   ],
   "source": [
    "plt.plot(Precision_MF)\n",
    "plt.xlabel('t')\n",
    "plt.ylabel('Precision')\n",
    "plt.show()\n",
    "\n",
    "plt.plot(Recall_MF)\n",
    "plt.xlabel('t')\n",
    "plt.ylabel('Recall')\n",
    "plt.show()\n",
    "\n",
    "plt.plot(Recall_MF, Precision_MF)\n",
    "plt.xlabel('Recall')\n",
    "plt.ylabel('Precision')\n",
    "plt.show()"
   ]
  },
  {
   "cell_type": "markdown",
   "metadata": {},
   "source": [
    "# Question 39 "
   ]
  },
  {
   "cell_type": "code",
   "execution_count": 35,
   "metadata": {
    "scrolled": false
   },
   "outputs": [
    {
     "data": {
      "image/png": "[encoded data removed]",
      "text/plain": [
       "<Figure size 432x288 with 1 Axes>"
      ]
     },
     "metadata": {
      "needs_background": "light"
     },
     "output_type": "display_data"
    }
   ],
   "source": [
    "plt.plot(Recall_KNN, Precision_KNN,label=\"KNN\")\n",
    "plt.plot(Recall_NMF, Precision_NMF,label=\"NMF\")\n",
    "plt.plot(Recall_MF, Precision_MF,label=\"MF\")\n",
    "plt.legend(loc=0)\n",
    "plt.show()"
   ]
  }
 ],
 "metadata": {
  "kernelspec": {
   "display_name": "Python 3",
   "language": "python",
   "name": "python3"
  },
  "language_info": {
   "codemirror_mode": {
    "name": "ipython",
    "version": 3
   },
   "file_extension": ".py",
   "mimetype": "text/x-python",
   "name": "python",
   "nbconvert_exporter": "python",
   "pygments_lexer": "ipython3",
   "version": "3.7.5"
  }
 },
 "nbformat": 4,
 "nbformat_minor": 2
}
