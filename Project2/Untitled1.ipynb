{
 "cells": [
  {
   "cell_type": "code",
   "execution_count": 1,
   "metadata": {},
   "outputs": [],
   "source": [
    "from PIL import Image\n",
    "import numpy as np\n",
    "import matplotlib.pyplot as plt\n",
    "from sklearn.cluster import KMeans\n",
    "from sklearn.datasets import load_sample_image\n",
    "from sklearn.utils import shuffle\n",
    "%matplotlib inline"
   ]
  },
  {
   "cell_type": "code",
   "execution_count": 2,
   "metadata": {},
   "outputs": [],
   "source": [
    "n_colors = 3\n",
    "gem = np.asarray(Image.open(\"./gem.jpeg\"))\n",
    "#Transform pixel RGB information to “normalized (r, g) space”\n",
    "gem = np.asarray([gem[:,:,0]/np.sum(gem,axis=2),gem[:,:,1]/np.sum(gem,axis=2)])\n",
    "gem_shape = gem.shape"
   ]
  },
  {
   "cell_type": "code",
   "execution_count": 3,
   "metadata": {},
   "outputs": [],
   "source": [
    "gem = gem.T.reshape(gem_shape[2]*gem_shape[1],gem_shape[0])\n",
    "kmeans = KMeans(n_clusters=n_colors,random_state=0).fit(gem)"
   ]
  },
  {
   "cell_type": "code",
   "execution_count": 4,
   "metadata": {},
   "outputs": [],
   "source": [
    "gem_n_colors = [[] for i in range(gem_shape[1])]\n",
    "for i1 in range(gem_shape[1]):\n",
    "    for i2 in range(gem_shape[2]):\n",
    "        if kmeans.labels_[i1+i2*896] == 0:\n",
    "            val = [255,0,0]\n",
    "        elif kmeans.labels_[i1+i2*896] == 1:\n",
    "            val = [0,255,0]\n",
    "        else:\n",
    "            val = [0,0,255]\n",
    "        gem_n_colors[i1].append(val)"
   ]
  },
  {
   "cell_type": "code",
   "execution_count": 5,
   "metadata": {},
   "outputs": [
    {
     "data": {
      "text/plain": [
       "<matplotlib.image.AxesImage at 0x7fcd8f3f4160>"
      ]
     },
     "execution_count": 5,
     "metadata": {},
     "output_type": "execute_result"
    },
    {
     "data": {
      "image/png": "[encoded data removed]",
      "text/plain": [
       "<matplotlib.figure.Figure at 0x7fcd96bd5b00>"
      ]
     },
     "metadata": {},
     "output_type": "display_data"
    }
   ],
   "source": [
    "plt.imshow(np.asarray(gem_n_colors,dtype=np.uint8))"
   ]
  },
  {
   "cell_type": "code",
   "execution_count": null,
   "metadata": {},
   "outputs": [],
   "source": []
  }
 ],
 "metadata": {
  "kernelspec": {
   "display_name": "Python 3",
   "language": "python",
   "name": "python3"
  },
  "language_info": {
   "codemirror_mode": {
    "name": "ipython",
    "version": 3
   },
   "file_extension": ".py",
   "mimetype": "text/x-python",
   "name": "python",
   "nbconvert_exporter": "python",
   "pygments_lexer": "ipython3",
   "version": "3.6.4"
  }
 },
 "nbformat": 4,
 "nbformat_minor": 2
}
